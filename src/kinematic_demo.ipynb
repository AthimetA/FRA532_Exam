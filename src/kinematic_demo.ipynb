{
 "cells": [
  {
   "cell_type": "code",
   "execution_count": 20,
   "metadata": {},
   "outputs": [
    {
     "name": "stdout",
     "output_type": "stream",
     "text": [
      "Dynamixel Wheel Left:  1800\n",
      "Dynamixel Wheel Right:  1060\n",
      "RPM Wheel Left:  -710.816\n",
      "RPM Wheel Right:  -32.976\n",
      "Velocity x:  -1.32412827008\n",
      "Angular velocity z:  29.980568486956525\n"
     ]
    }
   ],
   "source": [
    "def readDynamixelWheel(dynamixel_wheel_left, dynamixel_wheel_right):\n",
    "    if dynamixel_wheel_left > 1023:\n",
    "        dynamixel_wheel_left = (dynamixel_wheel_left - 1024) * -1\n",
    "    if dynamixel_wheel_right > 1023:\n",
    "        dynamixel_wheel_right = (dynamixel_wheel_right - 1024) * -1\n",
    "    RPM_wheel_left = dynamixel_wheel_left * 0.916\n",
    "    RPM_wheel_right = dynamixel_wheel_right * 0.916\n",
    "    # Wheel RPM\n",
    "    return RPM_wheel_left, RPM_wheel_right\n",
    "\n",
    "def RPMtoRAD(RPM_wheel_left, RPM_wheel_right):\n",
    "    # 1 RPM = 0.10472 rad/s ///// 1 rad/s = 9.5493 RPM\n",
    "    RAD_wheel_left = RPM_wheel_left * 0.10472\n",
    "    RAD_wheel_right = RPM_wheel_right * 0.10472\n",
    "    return RAD_wheel_left, RAD_wheel_right\n",
    "\n",
    "def FK(RAD_wheel_left, RAD_wheel_right):\n",
    "    wheel_radius = 0.034\n",
    "    wheel_offset = 0.0805\n",
    "    vx = (RAD_wheel_left + RAD_wheel_right) * wheel_radius / 2\n",
    "    wz = (RAD_wheel_right - RAD_wheel_left) * wheel_radius / wheel_offset\n",
    "    return vx, wz\n",
    "\n",
    "dynamixel_wheel_left = 1800\n",
    "dynamixel_wheel_right = 1060\n",
    "RPM_wheel_left, RPM_wheel_right = readDynamixelWheel(dynamixel_wheel_left, dynamixel_wheel_right)\n",
    "RAD_wheel_left, RAD_wheel_right = RPMtoRAD(RPM_wheel_left, RPM_wheel_right)\n",
    "vx, wz = FK(RAD_wheel_left, RAD_wheel_right)\n",
    "\n",
    "# Print Dynamixel Wheel\n",
    "print(\"Dynamixel Wheel Left: \", dynamixel_wheel_left)\n",
    "print(\"Dynamixel Wheel Right: \", dynamixel_wheel_right)\n",
    "\n",
    "# Print Wheel RPM\n",
    "print(\"RPM Wheel Left: \", RPM_wheel_left)\n",
    "print(\"RPM Wheel Right: \", RPM_wheel_right)\n",
    "\n",
    "# Print Robot Velocity\n",
    "print(\"Velocity x: \", vx)\n",
    "print(\"Angular velocity z: \", wz)"
   ]
  },
  {
   "cell_type": "code",
   "execution_count": 21,
   "metadata": {},
   "outputs": [
    {
     "name": "stdout",
     "output_type": "stream",
     "text": [
      "Velocity x:  -1.32412827008\n",
      "Angular velocity z:  29.980568486956525\n",
      "RPM Wheel Left:  -710.817916359936\n",
      "RPM Wheel Right:  -32.97608890329596\n",
      "Dynamixel Wheel Left:  1800.002092096\n",
      "Dynamixel Wheel Right:  1060.000097056\n"
     ]
    }
   ],
   "source": [
    "def IK(vx, wz):\n",
    "    wheel_radius = 0.034\n",
    "    wheel_offset = 0.0805\n",
    "    RAD_wheel_left = (vx/wheel_radius) - ((wz*wheel_offset)/(2*wheel_radius))\n",
    "    RAD_wheel_right = (vx/wheel_radius) + ((wz*wheel_offset)/(2*wheel_radius))\n",
    "    return RAD_wheel_left, RAD_wheel_right\n",
    "\n",
    "def RADtoRPM(RAD_wheel_left, RAD_wheel_right):\n",
    "    # 1 RPM = 0.10472 rad/s ///// 1 rad/s = 9.5493 RPM\n",
    "    RPM_wheel_left = RAD_wheel_left * 9.5493\n",
    "    RPM_wheel_right = RAD_wheel_right * 9.5493\n",
    "    return RPM_wheel_left, RPM_wheel_right\n",
    "\n",
    "def writeDynamixelWheel(RPM_wheel_left, RPM_wheel_right):\n",
    "    dynamixel_wheel_left = RPM_wheel_left / 0.916\n",
    "    dynamixel_wheel_right = RPM_wheel_right / 0.916\n",
    "\n",
    "    if dynamixel_wheel_left < 0:\n",
    "        dynamixel_wheel_left = (dynamixel_wheel_left * -1) + 1024\n",
    "    if dynamixel_wheel_right < 0:\n",
    "        dynamixel_wheel_right = (dynamixel_wheel_right * -1) + 1024\n",
    "    \n",
    "    return dynamixel_wheel_left, dynamixel_wheel_right\n",
    "\n",
    "#test\n",
    "RAD_wheel_left, RAD_wheel_right = IK(vx, wz)\n",
    "RPM_wheel_left, RPM_wheel_right = RADtoRPM(RAD_wheel_left, RAD_wheel_right)\n",
    "dynamixel_wheel_left, dynamixel_wheel_right = writeDynamixelWheel(RPM_wheel_left, RPM_wheel_right)\n",
    "\n",
    "# Print Robot Velocity\n",
    "print(\"Velocity x: \", vx)\n",
    "print(\"Angular velocity z: \", wz)\n",
    "\n",
    "# Print Wheel RPM\n",
    "print(\"RPM Wheel Left: \", RPM_wheel_left)\n",
    "print(\"RPM Wheel Right: \", RPM_wheel_right)\n",
    "\n",
    "# Print Dynamixel Wheel\n",
    "print(\"Dynamixel Wheel Left: \", dynamixel_wheel_left)\n",
    "print(\"Dynamixel Wheel Right: \", dynamixel_wheel_right)"
   ]
  }
 ],
 "metadata": {
  "kernelspec": {
   "display_name": "Python 3",
   "language": "python",
   "name": "python3"
  },
  "language_info": {
   "codemirror_mode": {
    "name": "ipython",
    "version": 3
   },
   "file_extension": ".py",
   "mimetype": "text/x-python",
   "name": "python",
   "nbconvert_exporter": "python",
   "pygments_lexer": "ipython3",
   "version": "3.10.12"
  }
 },
 "nbformat": 4,
 "nbformat_minor": 2
}
